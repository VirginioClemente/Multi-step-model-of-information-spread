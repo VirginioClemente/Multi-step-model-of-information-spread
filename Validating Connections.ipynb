{
 "cells": [
  {
   "cell_type": "markdown",
   "id": "0c56e1f0-515d-474b-be02-6071a2d30631",
   "metadata": {},
   "source": [
    "# Validation\n",
    "\n",
    "This notebook contains the steps followed to build the validated networks starting from the original retweet network"
   ]
  },
  {
   "cell_type": "code",
   "execution_count": 1,
   "id": "f49b4e41",
   "metadata": {
    "scrolled": true
   },
   "outputs": [],
   "source": [
    "import numpy as np\n",
    "import networkx as nx\n",
    "from NEMtropy import DirectedGraph\n",
    "from NEMtropy.network_functions import build_adjacency_from_edgelist\n",
    "from tqdm import tqdm\n",
    "import matplotlib.pyplot as plt\n",
    "from validation import Graph_validation\n",
    "\n",
    "import graph_tool.all as gt"
   ]
  },
  {
   "cell_type": "markdown",
   "id": "1ace561c",
   "metadata": {},
   "source": [
    "### Here we are going to estimate the parameter of the model CReMa."
   ]
  },
  {
   "cell_type": "markdown",
   "id": "309a1335-f487-41e4-bb20-5ab16e3e124e",
   "metadata": {},
   "source": [
    "Let's load all the relevant information regarding the original graph."
   ]
  },
  {
   "cell_type": "code",
   "execution_count": 2,
   "id": "ae7431d3",
   "metadata": {},
   "outputs": [],
   "source": [
    "# Upload the graph\n",
    "G = gt.load_graph(\"Left.gt\")\n",
    "\n",
    "# Take the property \"weight\" associate to each link\n",
    "weights = G.edge_properties[\"weight\"]\n",
    "\n",
    "# Create the weighted adjacency matrix\n",
    "adj_weigh = gt.adjacency(G, weight=weights)\n",
    "\n",
    "\n",
    "# get the property map for all the IDs for each node\n",
    "id_map = G.vertex_properties[\"id\"]\n",
    "\n",
    "# initialize an empty list to save the IDs\n",
    "ordered_ids = []\n",
    "\n",
    "# Loop through all the vertices of the graph and save their IDs in the list.\n",
    "for v in G.vertices():\n",
    "    ordered_ids.append(id_map[v])"
   ]
  },
  {
   "cell_type": "markdown",
   "id": "63be6d63-d229-42cb-91d4-b28daa4b09ad",
   "metadata": {},
   "source": [
    "We prepare the metrics that will be inserted into the CReMa to estimate the parameters."
   ]
  },
  {
   "cell_type": "code",
   "execution_count": null,
   "id": "4be53ad4-4c52-4da2-90d2-e90d1a6c615f",
   "metadata": {},
   "outputs": [],
   "source": [
    "# Lets store the binary structure and strength sequence\n",
    "adj_bin = adj_weigh.astype(bool).astype(int)\n",
    "\n",
    "out_strength =  np.array(adj_weigh.sum(axis=1)).flatten() \n",
    "in_strength =  np.array(adj_weigh.sum(axis=0)).flatten() \n",
    "\n",
    "# We can initialiase our graph instance with the strength sequence\n",
    "graph_weighted = DirectedGraph(strength_sequence=np.concatenate([out_strength, in_strength]))"
   ]
  },
  {
   "cell_type": "markdown",
   "id": "8fdad1ed-88e8-4a52-8f52-c720230412c2",
   "metadata": {
    "scrolled": true
   },
   "source": [
    "We use the internal solver to maximize the likelihood and estimate the parameters."
   ]
  },
  {
   "cell_type": "code",
   "execution_count": 2,
   "id": "5412b05d",
   "metadata": {},
   "outputs": [],
   "source": [
    "graph_weighted.solve_tool(model=\"crema\",\n",
    "                          method=\"quasinewton\",\n",
    "                          initial_guess=\"random\",\n",
    "                          adjacency=adj_bin,\n",
    "                          verbose=False,\n",
    "                          max_steps=1)"
   ]
  },
  {
   "cell_type": "code",
   "execution_count": 13,
   "id": "8ef99f46-9502-41b5-be11-d77a3a9711b8",
   "metadata": {},
   "outputs": [],
   "source": [
    "b_in = graph_weighted.b_in\n",
    "b_out = graph_weighted.b_out"
   ]
  },
  {
   "cell_type": "markdown",
   "id": "e3483047-233a-444d-8fdc-311e70b4541b",
   "metadata": {},
   "source": [
    "Once the parameters are estimated, we can proceed with the validation of the links using the 'Graph_validation' function."
   ]
  },
  {
   "cell_type": "code",
   "execution_count": null,
   "id": "4a410158-9797-42c0-b129-61b0f6ca48bc",
   "metadata": {},
   "outputs": [],
   "source": [
    "validated_edges = Graph_validation(adj_weigh,ordered_ids,b_in,b_out)"
   ]
  },
  {
   "cell_type": "markdown",
   "id": "ef64b525-54e3-490a-8e4e-7469da85fd43",
   "metadata": {},
   "source": [
    "As output, we have the list of all edges that have been determined as significant according to our model."
   ]
  },
  {
   "cell_type": "code",
   "execution_count": null,
   "id": "c3f389d8-cfe4-4028-9549-bb0e5a30be2d",
   "metadata": {},
   "outputs": [],
   "source": []
  },
  {
   "cell_type": "code",
   "execution_count": null,
   "id": "2f72a0ee-3a03-4e39-9437-8dec7c0569d7",
   "metadata": {},
   "outputs": [],
   "source": []
  },
  {
   "cell_type": "code",
   "execution_count": null,
   "id": "610518fa-a261-4e48-ae52-33ceaa607d10",
   "metadata": {},
   "outputs": [],
   "source": []
  },
  {
   "cell_type": "code",
   "execution_count": null,
   "id": "b60ffb0a-b83d-4de0-8843-8b600e2e6e80",
   "metadata": {},
   "outputs": [],
   "source": []
  },
  {
   "cell_type": "markdown",
   "id": "d5516e5e-d360-4e7f-9273-7ecdee3aadb8",
   "metadata": {},
   "source": [
    "# Function To Validate Links\n",
    "\n",
    "Questa è la funzione che ho costruito per validare i links, lavora con matrici sparse in modo da essere più veloce.\n",
    "in ingresso prende la lista di ids che ho costruiton prima, in modo da dare in output la lista di edges validate con gli identificativi reali."
   ]
  },
  {
   "cell_type": "markdown",
   "id": "f71eca80-d471-4721-96d0-0103eb2d8400",
   "metadata": {},
   "source": [
    "### Creo il grafo a partire dall'edge list e lo salvo"
   ]
  },
  {
   "cell_type": "code",
   "execution_count": null,
   "id": "12886e7b-6fe9-4e26-ab6d-b59e2915d8cc",
   "metadata": {},
   "outputs": [],
   "source": [
    "graph_with_weight = gt.load_graph(f'/sdf/3stepmodel/retweet_network/retweet_full/Full_only_lr.gt')"
   ]
  },
  {
   "cell_type": "code",
   "execution_count": null,
   "id": "738a9bea-5a61-4e50-9048-978b467a9d38",
   "metadata": {},
   "outputs": [],
   "source": [
    "missing = [i for i in ss if i not in W]"
   ]
  },
  {
   "cell_type": "code",
   "execution_count": null,
   "id": "60efaa02-cad0-4468-9468-182d876e34cf",
   "metadata": {},
   "outputs": [],
   "source": [
    "len(missing)"
   ]
  },
  {
   "cell_type": "code",
   "execution_count": null,
   "id": "05c887dd-5192-4a97-b7df-d22556b6a8e2",
   "metadata": {},
   "outputs": [],
   "source": [
    "# Create a directed graph\n",
    "graph = gt.Graph(directed=True)\n",
    "\n",
    "# Add vertices\n",
    "vertex_ids = set(edge[0] for edge in validated_edges) | set(edge[1] for edge in validated_edges)\n",
    "vertex_map = {v: graph.add_vertex() for v in vertex_ids}\n",
    "edges = [(vertex_map[source], vertex_map[target]) for source, target,weight in  validated_edges]\n",
    "\n",
    "\n",
    "graph.add_edge_list(edges)\n",
    "\n",
    "# Add weights as edge property\n",
    "weights = graph.new_edge_property(\"double\")\n",
    "for edge, weight in zip(graph.edges(), validated_edges):\n",
    "    weights[edge] = weight[2]\n",
    "\n",
    "graph.edge_properties[\"weight\"] = weights\n",
    "\n",
    "inverted_vmap = {j:i for i,j in vertex_map.items()}\n",
    "vertex_ids = graph.new_vertex_property(\"string\")\n",
    "for i in graph.vertices():\n",
    "    vertex_ids[i] = inverted_vmap[i]\n",
    "\n",
    "graph.vertex_properties[\"id\"] = vertex_ids\n",
    "graph.save(path_to_save + \"Full_only_lr.gt\")\n"
   ]
  },
  {
   "cell_type": "code",
   "execution_count": null,
   "id": "7ed845bb-cbe5-4834-9b8a-620d228196d1",
   "metadata": {},
   "outputs": [],
   "source": [
    "ls /sdf/3stepmodel/ensamble/validated_PNAS/"
   ]
  },
  {
   "cell_type": "code",
   "execution_count": null,
   "id": "c72827b5-40ee-46be-a520-706e170943df",
   "metadata": {},
   "outputs": [],
   "source": [
    "\n",
    "# Save the graph\n",
    "import networkx as nx\n",
    "\n",
    "# La tua edge list\n",
    "\n",
    "# Creazione del grafo\n",
    "G = nx.DiGraph()\n",
    "G.add_edges_from(validated_edges)"
   ]
  },
  {
   "cell_type": "code",
   "execution_count": null,
   "id": "3b50c3b2-9bb7-4ba6-9024-9ac938064bad",
   "metadata": {},
   "outputs": [],
   "source": [
    "#nx.write_graphml(G, path_to_save + 'Right.graphml')"
   ]
  },
  {
   "cell_type": "markdown",
   "id": "edead216-243d-4f91-9cdf-299b15e462bc",
   "metadata": {},
   "source": [
    "# Comparison between our validated graph and the edge list"
   ]
  },
  {
   "cell_type": "code",
   "execution_count": null,
   "id": "3f182368-b2e2-4feb-8016-6bb1e3204968",
   "metadata": {},
   "outputs": [],
   "source": [
    "path_to_validated_graphs = '/sdf/3stepmodel/ensamble/validated_graphs/' \n",
    "\n",
    "path_to_save = '/sdf/3stepmodel/ensamble/validated_PNAS/'\n",
    "\n",
    "path_to_parameters = '/sdf/3stepmodel/ensamble/dcm_parameters/'\n",
    "\n",
    "path_to_graphs = '/sdf/3stepmodel/retweet_network/retweet_full/'"
   ]
  },
  {
   "cell_type": "code",
   "execution_count": null,
   "id": "beb7dc5b-fc0d-44de-81e3-d1e5b08cc205",
   "metadata": {},
   "outputs": [],
   "source": [
    "b_in = np.load(path_to_parameters + 'Left_in.npy')\n",
    "b_out = np.load(path_to_parameters + 'Left_out.npy')\n",
    "\n",
    "\n",
    "initial_values = np.concatenate((b_out,b_in))"
   ]
  },
  {
   "cell_type": "code",
   "execution_count": null,
   "id": "4f209232-7c85-49a8-aa5b-8c17ff12f135",
   "metadata": {},
   "outputs": [],
   "source": [
    "#np.save(path_to_parameters + 'Full_only_lr_in.npy' , b_in)\n",
    "#np.save(path_to_parameters + 'Full_only_lr_out.npy' , b_out)"
   ]
  },
  {
   "cell_type": "code",
   "execution_count": null,
   "id": "13db74fc-3dd9-47dd-82f3-fe134e19da1b",
   "metadata": {},
   "outputs": [],
   "source": [
    "G_validated = gt.load_graph(path_to_validated_graphs + 'Grafo_left.gt')"
   ]
  },
  {
   "cell_type": "code",
   "execution_count": null,
   "id": "1f48f8f8-cd02-4f13-9093-a421f944a6ec",
   "metadata": {},
   "outputs": [],
   "source": [
    "G_validated.num_edges()"
   ]
  },
  {
   "cell_type": "code",
   "execution_count": null,
   "id": "d0f3734e-aa87-4535-a7f6-22b6e0601b28",
   "metadata": {},
   "outputs": [],
   "source": [
    "del G_validated"
   ]
  },
  {
   "cell_type": "code",
   "execution_count": null,
   "id": "f7555ed2-2740-4d82-a359-381423df1d09",
   "metadata": {},
   "outputs": [],
   "source": [
    "# Verifica se contiene valori diversi da 1\n",
    "contains_values_other_than_one = np.any(adj_weigh.data != 1)\n",
    "\n",
    "if contains_values_other_than_one:\n",
    "    print(\"La matrice contiene valori diversi da 1.\")\n",
    "else:\n",
    "    print(\"La matrice contiene solo valori 1 (e implicitamente 0).\")"
   ]
  },
  {
   "cell_type": "code",
   "execution_count": null,
   "id": "21d7bdf7-85a2-4e5b-ad3a-9209576a6c34",
   "metadata": {},
   "outputs": [],
   "source": [
    "ls /sdf/3stepmodel/ensamble/validated_PNAS/"
   ]
  },
  {
   "cell_type": "code",
   "execution_count": null,
   "id": "5c3a7a12-21bf-4b7b-8193-2b5824a120d9",
   "metadata": {},
   "outputs": [],
   "source": []
  }
 ],
 "metadata": {
  "kernelspec": {
   "display_name": "Python 3 (ipykernel)",
   "language": "python",
   "name": "python3"
  },
  "language_info": {
   "codemirror_mode": {
    "name": "ipython",
    "version": 3
   },
   "file_extension": ".py",
   "mimetype": "text/x-python",
   "name": "python",
   "nbconvert_exporter": "python",
   "pygments_lexer": "ipython3",
   "version": "3.11.7"
  }
 },
 "nbformat": 4,
 "nbformat_minor": 5
}
